{
 "cells": [
  {
   "cell_type": "code",
   "execution_count": 2,
   "metadata": {},
   "outputs": [
    {
     "name": "stdout",
     "output_type": "stream",
     "text": [
      "Collecting youtube-dl\n",
      "  Downloading https://files.pythonhosted.org/packages/58/38/1215e2bae8cd0b1a52621740add46cebfa8bb988a48cd61cf7cccf7c09c6/youtube_dl-2019.11.28-py2.py3-none-any.whl (1.8MB)\n",
      "Installing collected packages: youtube-dl\n",
      "Successfully installed youtube-dl-2019.11.28\n",
      "[youtube] OLA_Lg1S8CQ: Downloading webpage\n",
      "[youtube] OLA_Lg1S8CQ: Downloading video info webpage\n",
      "[youtube] OLA_Lg1S8CQ: Downloading js player vflq5GyJR\n",
      "[youtube] OLA_Lg1S8CQ: Downloading js player vflq5GyJR\n",
      "[download] Destination: MC Sniper _ 마법의 성-OLA_Lg1S8CQ.mp4\n",
      "[download] 100% of 13.94MiB in 00:01                  \n"
     ]
    }
   ],
   "source": [
    "!pip install --upgrade youtube-dl\n",
    "import os\n",
    "import subprocess\n",
    "import youtube_dl\n",
    "\n",
    "# 다운로드 받고 싶은 음악의 유튜브 주소를 적어준다.\n",
    "url = 'https://www.youtube.com/watch?v=OLA_Lg1S8CQ'\n",
    "\n",
    "ydl_opts = {} # 필요하다면 옵션을 여러가지 사용할 수 있다. 사용법은 https://github.com/ytdl-org/youtube-dl 를 참고하자.\n",
    "with youtube_dl.YoutubeDL(ydl_opts) as ydl:\n",
    "    ydl.download([url])\n",
    "\n",
    "# 다운로드 받은 webm 파일을 리스트에 저장한다.\n",
    "file_list = os.listdir('.')\n",
    "video = [file for file in file_list if file.endswith(\".webm\")]\n",
    "\n",
    "# 파일 하나하나 모두 mp3 로 변환한다.\n",
    "for v in video:\n",
    "    s = v.split('.')[0]+'.mp3'\n",
    "    cmds = ['ffmpeg', '-i', v,'-vn', '-ab', '192K', '-y', s]\n",
    "    subprocess.Popen(cmds)\n",
    "    print('Converting',v,'to',s)\n",
    "\n",
    "\n",
    "\n"
   ]
  },
  {
   "cell_type": "code",
   "execution_count": null,
   "metadata": {},
   "outputs": [],
   "source": [
    "!pip install --upgrade whl youtube_dl-2019.11.28-py2.py3-none-any.whl"
   ]
  },
  {
   "cell_type": "code",
   "execution_count": null,
   "metadata": {},
   "outputs": [],
   "source": [
    "!pip install youtube_dl-2019.11.28-py2.py3-none-any.whl"
   ]
  },
  {
   "cell_type": "code",
   "execution_count": null,
   "metadata": {},
   "outputs": [],
   "source": [
    "pip install youtube_dl-2019.11.28-py2.py3-none-any.whl"
   ]
  },
  {
   "cell_type": "code",
   "execution_count": null,
   "metadata": {},
   "outputs": [],
   "source": [
    "!python -m pip install --upgrade pip\n",
    "\n"
   ]
  },
  {
   "cell_type": "code",
   "execution_count": null,
   "metadata": {},
   "outputs": [],
   "source": [
    "pip install pytube"
   ]
  },
  {
   "cell_type": "code",
   "execution_count": null,
   "metadata": {},
   "outputs": [],
   "source": []
  },
  {
   "cell_type": "code",
   "execution_count": null,
   "metadata": {},
   "outputs": [],
   "source": []
  }
 ],
 "metadata": {
  "kernelspec": {
   "display_name": "Python 3",
   "language": "python",
   "name": "python3"
  },
  "language_info": {
   "codemirror_mode": {
    "name": "ipython",
    "version": 3
   },
   "file_extension": ".py",
   "mimetype": "text/x-python",
   "name": "python",
   "nbconvert_exporter": "python",
   "pygments_lexer": "ipython3",
   "version": "3.6.8"
  }
 },
 "nbformat": 4,
 "nbformat_minor": 2
}
